{
 "cells": [
  {
   "cell_type": "markdown",
   "id": "8aafdf52",
   "metadata": {},
   "source": [
    "Application Development;Practical Part!"
   ]
  },
  {
   "cell_type": "code",
   "execution_count": 1,
   "id": "67fdc71f",
   "metadata": {},
   "outputs": [
    {
     "data": {
      "text/plain": [
       "int"
      ]
     },
     "execution_count": 1,
     "metadata": {},
     "output_type": "execute_result"
    }
   ],
   "source": [
    "x = 25\n",
    "type(x)"
   ]
  },
  {
   "cell_type": "code",
   "execution_count": 2,
   "id": "d1139def",
   "metadata": {},
   "outputs": [
    {
     "data": {
      "text/plain": [
       "str"
      ]
     },
     "execution_count": 2,
     "metadata": {},
     "output_type": "execute_result"
    }
   ],
   "source": [
    "y = 'jupyter is cool!'\n",
    "type(y)"
   ]
  },
  {
   "cell_type": "code",
   "execution_count": 3,
   "id": "6c5de488",
   "metadata": {},
   "outputs": [
    {
     "data": {
      "text/plain": [
       "float"
      ]
     },
     "execution_count": 3,
     "metadata": {},
     "output_type": "execute_result"
    }
   ],
   "source": [
    "z = 2.8674\n",
    "type(z)"
   ]
  },
  {
   "cell_type": "code",
   "execution_count": 6,
   "id": "99a6008a",
   "metadata": {},
   "outputs": [
    {
     "name": "stdout",
     "output_type": "stream",
     "text": [
      "['RF', 'SS', 'PY', 'classmodelling', 79]\n"
     ]
    }
   ],
   "source": [
    "myworks = list()\n",
    "myworks.append('RF')\n",
    "myworks.append('SS')\n",
    "myworks.append('PY')\n",
    "myworks.append('classmodelling')\n",
    "myworks.append(79)\n",
    "print(myworks)\n",
    "\n"
   ]
  },
  {
   "cell_type": "code",
   "execution_count": 8,
   "id": "5e0282f0",
   "metadata": {},
   "outputs": [
    {
     "name": "stdout",
     "output_type": "stream",
     "text": [
      "life is hard!\n"
     ]
    }
   ],
   "source": [
    "t = 'life '\n",
    "y = 'is '\n",
    "z = 'hard!'\n",
    "a = t + y + z\n",
    "print(a)"
   ]
  },
  {
   "cell_type": "code",
   "execution_count": 11,
   "id": "afe0d7e0",
   "metadata": {},
   "outputs": [
    {
     "name": "stdout",
     "output_type": "stream",
     "text": [
      "0.8475\n"
     ]
    }
   ],
   "source": [
    "# Find the number!\n",
    "text = \"X-DSPAM-Confidence:    0.8475\"\n",
    "y=text.find('0')\n",
    "x=text.find('5',)\n",
    "number = text[y: x+1]\n",
    "print(float(number))\n"
   ]
  },
  {
   "cell_type": "code",
   "execution_count": 15,
   "id": "ad95eebd",
   "metadata": {},
   "outputs": [
    {
     "name": "stdout",
     "output_type": "stream",
     "text": [
      "1\n"
     ]
    }
   ],
   "source": [
    "b = 1.49999\n",
    "a=round(b)\n",
    "print(a)"
   ]
  },
  {
   "cell_type": "code",
   "execution_count": 21,
   "id": "b7e33032",
   "metadata": {
    "scrolled": true
   },
   "outputs": [
    {
     "name": "stdout",
     "output_type": "stream",
     "text": [
      "banana\n",
      "ananas\n"
     ]
    }
   ],
   "source": [
    "fruit = ['apple', 'orange', 'banana']\n",
    "print(fruit[2])\n",
    "fruit[0] = 'ananas'\n",
    "print(fruit[0])"
   ]
  },
  {
   "cell_type": "code",
   "execution_count": 24,
   "id": "f2931ae3",
   "metadata": {},
   "outputs": [
    {
     "name": "stdout",
     "output_type": "stream",
     "text": [
      "dead\n"
     ]
    }
   ],
   "source": [
    "example_dict = {\n",
    "    'name' : 'Abraham',\n",
    "    'last name': 'Lincoln',\n",
    "    'status' : 'dead'\n",
    "}\n",
    "print (example_dict['status'])"
   ]
  },
  {
   "cell_type": "code",
   "execution_count": 25,
   "id": "a440602a",
   "metadata": {},
   "outputs": [
    {
     "data": {
      "text/plain": [
       "float"
      ]
     },
     "execution_count": 25,
     "metadata": {},
     "output_type": "execute_result"
    }
   ],
   "source": [
    "empty_gift = float()\n",
    "type(empty_gift)"
   ]
  },
  {
   "cell_type": "code",
   "execution_count": 28,
   "id": "3421b8f1",
   "metadata": {},
   "outputs": [
    {
     "name": "stdout",
     "output_type": "stream",
     "text": [
      "baddd!\n"
     ]
    }
   ],
   "source": [
    "#looooop_if\n",
    "z == 87\n",
    "if z+23 > 110:\n",
    "    print('good!')\n",
    "else:\n",
    "    print('baddd!')"
   ]
  },
  {
   "cell_type": "code",
   "execution_count": 30,
   "id": "5e747dc0",
   "metadata": {},
   "outputs": [
    {
     "name": "stdout",
     "output_type": "stream",
     "text": [
      "false\n"
     ]
    }
   ],
   "source": [
    "y = 293\n",
    "x = y +246\n",
    "z = x +12\n",
    "if z > 750:\n",
    "    print('true')\n",
    "elif z >600:\n",
    "    print('not bad!')\n",
    "else:\n",
    "    print('false')"
   ]
  },
  {
   "cell_type": "code",
   "execution_count": 36,
   "id": "ca9f7dc1",
   "metadata": {},
   "outputs": [
    {
     "name": "stdout",
     "output_type": "stream",
     "text": [
      "wow\n",
      "really?\n",
      "easy\n"
     ]
    }
   ],
   "source": [
    "#looooop_for\n",
    "x = ['wow', 'really?', 'easy']\n",
    "for z in x:\n",
    "    print(z)"
   ]
  },
  {
   "cell_type": "code",
   "execution_count": 37,
   "id": "6653ad16",
   "metadata": {},
   "outputs": [
    {
     "name": "stdout",
     "output_type": "stream",
     "text": [
      "['wow', 'really?', 'easy']\n",
      "['wow', 'really?', 'easy']\n",
      "['wow', 'really?', 'easy']\n"
     ]
    }
   ],
   "source": [
    "#print the X equals the number of z, which are 3 objects.\n",
    "x = ['wow', 'really?', 'easy']\n",
    "for z in x:\n",
    "    print(x)"
   ]
  },
  {
   "cell_type": "code",
   "execution_count": 2,
   "id": "0429b8ed",
   "metadata": {},
   "outputs": [],
   "source": [
    "#the end"
   ]
  },
  {
   "cell_type": "code",
   "execution_count": null,
   "id": "6f8a24b1",
   "metadata": {},
   "outputs": [],
   "source": []
  },
  {
   "cell_type": "code",
   "execution_count": null,
   "id": "d8196a45",
   "metadata": {},
   "outputs": [],
   "source": []
  }
 ],
 "metadata": {
  "kernelspec": {
   "display_name": "Python 3",
   "language": "python",
   "name": "python3"
  },
  "language_info": {
   "codemirror_mode": {
    "name": "ipython",
    "version": 3
   },
   "file_extension": ".py",
   "mimetype": "text/x-python",
   "name": "python",
   "nbconvert_exporter": "python",
   "pygments_lexer": "ipython3",
   "version": "3.7.11"
  }
 },
 "nbformat": 4,
 "nbformat_minor": 5
}
